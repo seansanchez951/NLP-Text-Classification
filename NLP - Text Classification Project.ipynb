{
  "nbformat": 4,
  "nbformat_minor": 0,
  "metadata": {
    "colab": {
      "provenance": [],
      "machine_shape": "hm"
    },
    "kernelspec": {
      "name": "python3",
      "display_name": "Python 3"
    },
    "language_info": {
      "name": "python"
    },
    "gpuClass": "standard",
    "accelerator": "GPU"
  },
  "cells": [
    {
      "cell_type": "code",
      "execution_count": null,
      "metadata": {
        "id": "j6RxZB_c90Ta"
      },
      "outputs": [],
      "source": [
        "# import libraries\n",
        "\n",
        "import os\n",
        "import random\n",
        "\n",
        "import numpy as np \n",
        "import pandas as pd\n",
        "import tensorflow as tf\n",
        "from tensorflow import keras\n",
        "from tensorflow.keras import layers\n",
        "import matplotlib.pyplot as plt"
      ]
    },
    {
      "cell_type": "code",
      "source": [
        "# data extraction, EDA, cleaning phase"
      ],
      "metadata": {
        "id": "qmgFYmpuH3QL"
      },
      "execution_count": null,
      "outputs": []
    },
    {
      "cell_type": "code",
      "source": [
        "# download dataset from facebook AI public files\n",
        "!wget \"https://dl.fbaipublicfiles.com/parlai/empatheticdialogues/empatheticdialogues.tar.gz\""
      ],
      "metadata": {
        "id": "xB-3Vt80_G3E",
        "colab": {
          "base_uri": "https://localhost:8080/"
        },
        "outputId": "6e89fa27-e644-4f75-8c38-95a26a3d8f0c"
      },
      "execution_count": null,
      "outputs": [
        {
          "output_type": "stream",
          "name": "stdout",
          "text": [
            "--2022-09-22 16:01:56--  https://dl.fbaipublicfiles.com/parlai/empatheticdialogues/empatheticdialogues.tar.gz\n",
            "Resolving dl.fbaipublicfiles.com (dl.fbaipublicfiles.com)... 104.22.75.142, 104.22.74.142, 172.67.9.4, ...\n",
            "Connecting to dl.fbaipublicfiles.com (dl.fbaipublicfiles.com)|104.22.75.142|:443... connected.\n",
            "HTTP request sent, awaiting response... 200 OK\n",
            "Length: 28022709 (27M) [application/gzip]\n",
            "Saving to: ‘empatheticdialogues.tar.gz’\n",
            "\n",
            "empatheticdialogues 100%[===================>]  26.72M  9.73MB/s    in 2.7s    \n",
            "\n",
            "2022-09-22 16:02:00 (9.73 MB/s) - ‘empatheticdialogues.tar.gz’ saved [28022709/28022709]\n",
            "\n"
          ]
        }
      ]
    },
    {
      "cell_type": "code",
      "source": [
        "# unzip test, train, and valid files\n",
        "!tar -xvf empatheticdialogues.tar.gz"
      ],
      "metadata": {
        "id": "Va48V8QK_KdX",
        "colab": {
          "base_uri": "https://localhost:8080/"
        },
        "outputId": "8fec9b0d-07d8-4b6d-d4da-d8bf7b4fd3b7"
      },
      "execution_count": null,
      "outputs": [
        {
          "output_type": "stream",
          "name": "stdout",
          "text": [
            "empatheticdialogues/\n",
            "empatheticdialogues/test.csv\n",
            "empatheticdialogues/train.csv\n",
            "empatheticdialogues/valid.csv\n"
          ]
        }
      ]
    },
    {
      "cell_type": "code",
      "source": [
        "# load train csv file \n",
        "splitname = \"train\"\n",
        "path = '/content/empatheticdialogues'\n",
        "\n",
        "# create variable for training dataset\n",
        "train_df = open(os.path.join(path, f\"{splitname}.csv\")).readlines()\n",
        "# index 0 is the column names for the dataset\n",
        "print(train_df[0].strip().split(\",\"))\n",
        "print(train_df[1].strip().split(\",\"))\n",
        "print(train_df[2].strip().split(\",\"))\n",
        "print(type(train_df))"
      ],
      "metadata": {
        "id": "YLo-O0Mf_NJL",
        "colab": {
          "base_uri": "https://localhost:8080/"
        },
        "outputId": "bc889949-4c86-47df-ca67-f01ce6ff4e2c"
      },
      "execution_count": null,
      "outputs": [
        {
          "output_type": "stream",
          "name": "stdout",
          "text": [
            "['conv_id', 'utterance_idx', 'context', 'prompt', 'speaker_idx', 'utterance', 'selfeval', 'tags']\n",
            "['hit:0_conv:1', '1', 'sentimental', 'I remember going to the fireworks with my best friend. There was a lot of people_comma_ but it only felt like us in the world.', '1', 'I remember going to see the fireworks with my best friend. It was the first time we ever spent time alone together. Although there was a lot of people_comma_ we felt like the only people in the world.', '5|5|5_2|2|5', '']\n",
            "['hit:0_conv:1', '2', 'sentimental', 'I remember going to the fireworks with my best friend. There was a lot of people_comma_ but it only felt like us in the world.', '0', 'Was this a friend you were in love with_comma_ or just a best friend?', '5|5|5_2|2|5', '']\n",
            "<class 'list'>\n"
          ]
        }
      ]
    },
    {
      "cell_type": "code",
      "source": [
        "# load the prompt (message), and context (mood/emotion/label) from the training data into their own arrays\n",
        "raw_train_prompt_list = []\n",
        "raw_train_context_list = []\n",
        "\n",
        "for i in range(1, len(train_df)):\n",
        "  data_line = train_df[i].strip().split(\",\")\n",
        "  raw_train_context_list.append(data_line[2])\n",
        "  raw_train_prompt_list.append(data_line[3].replace(\"_comma_\", \",\"))"
      ],
      "metadata": {
        "id": "i0ozHPs8BOxk"
      },
      "execution_count": null,
      "outputs": []
    },
    {
      "cell_type": "code",
      "source": [
        "# create pandas training dataframe using arrays\n",
        "train_dataframe = pd.DataFrame(columns=['prompt','context'])\n",
        "train_dataframe['prompt'] = raw_train_prompt_list\n",
        "train_dataframe['context'] = raw_train_context_list\n",
        "print(f\"There are {len(train_dataframe)} rows in the training dataset.\")\n",
        "train_dataframe.head()"
      ],
      "metadata": {
        "id": "XcoZgGmmBSJT",
        "colab": {
          "base_uri": "https://localhost:8080/",
          "height": 224
        },
        "outputId": "d583a278-99e8-4d1c-a03c-e7715d36adbe"
      },
      "execution_count": null,
      "outputs": [
        {
          "output_type": "stream",
          "name": "stdout",
          "text": [
            "There are 84169 rows in the training dataset.\n"
          ]
        },
        {
          "output_type": "execute_result",
          "data": {
            "text/plain": [
              "                                              prompt      context\n",
              "0  I remember going to the fireworks with my best...  sentimental\n",
              "1  I remember going to the fireworks with my best...  sentimental\n",
              "2  I remember going to the fireworks with my best...  sentimental\n",
              "3  I remember going to the fireworks with my best...  sentimental\n",
              "4  I remember going to the fireworks with my best...  sentimental"
            ],
            "text/html": [
              "\n",
              "  <div id=\"df-77a761f8-9fc6-4694-a584-870a5b9b5d4c\">\n",
              "    <div class=\"colab-df-container\">\n",
              "      <div>\n",
              "<style scoped>\n",
              "    .dataframe tbody tr th:only-of-type {\n",
              "        vertical-align: middle;\n",
              "    }\n",
              "\n",
              "    .dataframe tbody tr th {\n",
              "        vertical-align: top;\n",
              "    }\n",
              "\n",
              "    .dataframe thead th {\n",
              "        text-align: right;\n",
              "    }\n",
              "</style>\n",
              "<table border=\"1\" class=\"dataframe\">\n",
              "  <thead>\n",
              "    <tr style=\"text-align: right;\">\n",
              "      <th></th>\n",
              "      <th>prompt</th>\n",
              "      <th>context</th>\n",
              "    </tr>\n",
              "  </thead>\n",
              "  <tbody>\n",
              "    <tr>\n",
              "      <th>0</th>\n",
              "      <td>I remember going to the fireworks with my best...</td>\n",
              "      <td>sentimental</td>\n",
              "    </tr>\n",
              "    <tr>\n",
              "      <th>1</th>\n",
              "      <td>I remember going to the fireworks with my best...</td>\n",
              "      <td>sentimental</td>\n",
              "    </tr>\n",
              "    <tr>\n",
              "      <th>2</th>\n",
              "      <td>I remember going to the fireworks with my best...</td>\n",
              "      <td>sentimental</td>\n",
              "    </tr>\n",
              "    <tr>\n",
              "      <th>3</th>\n",
              "      <td>I remember going to the fireworks with my best...</td>\n",
              "      <td>sentimental</td>\n",
              "    </tr>\n",
              "    <tr>\n",
              "      <th>4</th>\n",
              "      <td>I remember going to the fireworks with my best...</td>\n",
              "      <td>sentimental</td>\n",
              "    </tr>\n",
              "  </tbody>\n",
              "</table>\n",
              "</div>\n",
              "      <button class=\"colab-df-convert\" onclick=\"convertToInteractive('df-77a761f8-9fc6-4694-a584-870a5b9b5d4c')\"\n",
              "              title=\"Convert this dataframe to an interactive table.\"\n",
              "              style=\"display:none;\">\n",
              "        \n",
              "  <svg xmlns=\"http://www.w3.org/2000/svg\" height=\"24px\"viewBox=\"0 0 24 24\"\n",
              "       width=\"24px\">\n",
              "    <path d=\"M0 0h24v24H0V0z\" fill=\"none\"/>\n",
              "    <path d=\"M18.56 5.44l.94 2.06.94-2.06 2.06-.94-2.06-.94-.94-2.06-.94 2.06-2.06.94zm-11 1L8.5 8.5l.94-2.06 2.06-.94-2.06-.94L8.5 2.5l-.94 2.06-2.06.94zm10 10l.94 2.06.94-2.06 2.06-.94-2.06-.94-.94-2.06-.94 2.06-2.06.94z\"/><path d=\"M17.41 7.96l-1.37-1.37c-.4-.4-.92-.59-1.43-.59-.52 0-1.04.2-1.43.59L10.3 9.45l-7.72 7.72c-.78.78-.78 2.05 0 2.83L4 21.41c.39.39.9.59 1.41.59.51 0 1.02-.2 1.41-.59l7.78-7.78 2.81-2.81c.8-.78.8-2.07 0-2.86zM5.41 20L4 18.59l7.72-7.72 1.47 1.35L5.41 20z\"/>\n",
              "  </svg>\n",
              "      </button>\n",
              "      \n",
              "  <style>\n",
              "    .colab-df-container {\n",
              "      display:flex;\n",
              "      flex-wrap:wrap;\n",
              "      gap: 12px;\n",
              "    }\n",
              "\n",
              "    .colab-df-convert {\n",
              "      background-color: #E8F0FE;\n",
              "      border: none;\n",
              "      border-radius: 50%;\n",
              "      cursor: pointer;\n",
              "      display: none;\n",
              "      fill: #1967D2;\n",
              "      height: 32px;\n",
              "      padding: 0 0 0 0;\n",
              "      width: 32px;\n",
              "    }\n",
              "\n",
              "    .colab-df-convert:hover {\n",
              "      background-color: #E2EBFA;\n",
              "      box-shadow: 0px 1px 2px rgba(60, 64, 67, 0.3), 0px 1px 3px 1px rgba(60, 64, 67, 0.15);\n",
              "      fill: #174EA6;\n",
              "    }\n",
              "\n",
              "    [theme=dark] .colab-df-convert {\n",
              "      background-color: #3B4455;\n",
              "      fill: #D2E3FC;\n",
              "    }\n",
              "\n",
              "    [theme=dark] .colab-df-convert:hover {\n",
              "      background-color: #434B5C;\n",
              "      box-shadow: 0px 1px 3px 1px rgba(0, 0, 0, 0.15);\n",
              "      filter: drop-shadow(0px 1px 2px rgba(0, 0, 0, 0.3));\n",
              "      fill: #FFFFFF;\n",
              "    }\n",
              "  </style>\n",
              "\n",
              "      <script>\n",
              "        const buttonEl =\n",
              "          document.querySelector('#df-77a761f8-9fc6-4694-a584-870a5b9b5d4c button.colab-df-convert');\n",
              "        buttonEl.style.display =\n",
              "          google.colab.kernel.accessAllowed ? 'block' : 'none';\n",
              "\n",
              "        async function convertToInteractive(key) {\n",
              "          const element = document.querySelector('#df-77a761f8-9fc6-4694-a584-870a5b9b5d4c');\n",
              "          const dataTable =\n",
              "            await google.colab.kernel.invokeFunction('convertToInteractive',\n",
              "                                                     [key], {});\n",
              "          if (!dataTable) return;\n",
              "\n",
              "          const docLinkHtml = 'Like what you see? Visit the ' +\n",
              "            '<a target=\"_blank\" href=https://colab.research.google.com/notebooks/data_table.ipynb>data table notebook</a>'\n",
              "            + ' to learn more about interactive tables.';\n",
              "          element.innerHTML = '';\n",
              "          dataTable['output_type'] = 'display_data';\n",
              "          await google.colab.output.renderOutput(dataTable, element);\n",
              "          const docLink = document.createElement('div');\n",
              "          docLink.innerHTML = docLinkHtml;\n",
              "          element.appendChild(docLink);\n",
              "        }\n",
              "      </script>\n",
              "    </div>\n",
              "  </div>\n",
              "  "
            ]
          },
          "metadata": {},
          "execution_count": 7
        }
      ]
    },
    {
      "cell_type": "code",
      "source": [
        "total_duplicate_train = sum(train_dataframe[['prompt','context']].duplicated())\n",
        "print(f\"There are {total_duplicate_train} duplicate prompts (messages) to context (emotion) rows in the training data.\")"
      ],
      "metadata": {
        "id": "TcvbWDqMBXeB",
        "colab": {
          "base_uri": "https://localhost:8080/"
        },
        "outputId": "74a87e70-70c7-4223-f9cb-1b32b9c1f79a"
      },
      "execution_count": null,
      "outputs": [
        {
          "output_type": "stream",
          "name": "stdout",
          "text": [
            "There are 64862 duplicate prompts (messages) to context (emotion) rows in the training data.\n"
          ]
        }
      ]
    },
    {
      "cell_type": "code",
      "source": [
        "# If we remove duplicates there will be 19307 rows of training data\n",
        "84169-64862"
      ],
      "metadata": {
        "id": "_SQEQONYBdq3",
        "colab": {
          "base_uri": "https://localhost:8080/"
        },
        "outputId": "b7a3523a-bb8c-4d6f-c894-d3e724f8d728"
      },
      "execution_count": null,
      "outputs": [
        {
          "output_type": "execute_result",
          "data": {
            "text/plain": [
              "19307"
            ]
          },
          "metadata": {},
          "execution_count": 9
        }
      ]
    },
    {
      "cell_type": "code",
      "source": [
        "# lets drop duplicate enteries of prompts, context\n",
        "train_dataframe = train_dataframe.drop_duplicates(ignore_index=True)\n",
        "train_dataframe.shape"
      ],
      "metadata": {
        "id": "dRKV-GcxBkjT",
        "colab": {
          "base_uri": "https://localhost:8080/"
        },
        "outputId": "1e6d2cb7-7f6c-4a73-e45b-8bb339df2339"
      },
      "execution_count": null,
      "outputs": [
        {
          "output_type": "execute_result",
          "data": {
            "text/plain": [
              "(19307, 2)"
            ]
          },
          "metadata": {},
          "execution_count": 10
        }
      ]
    },
    {
      "cell_type": "code",
      "source": [
        "# display random message from train data frame with accompying sentiment\n",
        "idx = np.random.randint(train_dataframe.shape[0])\n",
        "print('Train DF row is: ', idx)\n",
        "print('Message: ', train_dataframe['prompt'].iloc[idx])\n",
        "print('Sentiment: ', train_dataframe['context'].iloc[idx])"
      ],
      "metadata": {
        "id": "w9mDnsNKBo9G",
        "colab": {
          "base_uri": "https://localhost:8080/"
        },
        "outputId": "e76f3395-99fd-4b09-ac7b-68e482413399"
      },
      "execution_count": null,
      "outputs": [
        {
          "output_type": "stream",
          "name": "stdout",
          "text": [
            "Train DF row is:  6724\n",
            "Message:  i found a pyrex bowl like one my mom used to have\n",
            "Sentiment:  nostalgic\n"
          ]
        }
      ]
    },
    {
      "cell_type": "code",
      "source": [
        "print(train_dataframe['context'].value_counts())"
      ],
      "metadata": {
        "id": "8KCkZqH2B148",
        "colab": {
          "base_uri": "https://localhost:8080/"
        },
        "outputId": "1124cfa1-f3c0-4dd6-9203-50ddb76eb26e"
      },
      "execution_count": null,
      "outputs": [
        {
          "output_type": "stream",
          "name": "stdout",
          "text": [
            "surprised       1000\n",
            "excited          740\n",
            "angry            686\n",
            "proud            670\n",
            "sad              664\n",
            "annoyed          662\n",
            "grateful         638\n",
            "lonely           634\n",
            "afraid           626\n",
            "terrified        618\n",
            "impressed        617\n",
            "hopeful          616\n",
            "disgusted        614\n",
            "guilty           613\n",
            "anxious          612\n",
            "confident        611\n",
            "anticipating     599\n",
            "furious          599\n",
            "joyful           598\n",
            "nostalgic        597\n",
            "disappointed     595\n",
            "prepared         589\n",
            "jealous          579\n",
            "content          570\n",
            "embarrassed      560\n",
            "devastated       557\n",
            "sentimental      515\n",
            "caring           504\n",
            "trusting         499\n",
            "ashamed          490\n",
            "apprehensive     462\n",
            "faithful         373\n",
            "Name: context, dtype: int64\n"
          ]
        }
      ]
    },
    {
      "cell_type": "code",
      "source": [
        "train_dataframe['context'].value_counts().shape"
      ],
      "metadata": {
        "id": "K4Gh0YIhCAWO",
        "colab": {
          "base_uri": "https://localhost:8080/"
        },
        "outputId": "4b5d62ab-559e-4a5a-9147-69123e769e91"
      },
      "execution_count": null,
      "outputs": [
        {
          "output_type": "execute_result",
          "data": {
            "text/plain": [
              "(32,)"
            ]
          },
          "metadata": {},
          "execution_count": 13
        }
      ]
    },
    {
      "cell_type": "code",
      "source": [
        "# visualize value counts of sentiments of train data using horizontal bar plot \n",
        "train_dataframe.context.value_counts().sort_values().plot(kind = 'barh', linewidth=20, figsize = [8,8], title='Sentiment Frequency Training Data')"
      ],
      "metadata": {
        "id": "Cg66h7PZCEe7",
        "colab": {
          "base_uri": "https://localhost:8080/",
          "height": 516
        },
        "outputId": "51bc28e4-4c7e-4fbb-ba32-666530f6914c"
      },
      "execution_count": null,
      "outputs": [
        {
          "output_type": "execute_result",
          "data": {
            "text/plain": [
              "<matplotlib.axes._subplots.AxesSubplot at 0x7f23716febd0>"
            ]
          },
          "metadata": {},
          "execution_count": 14
        },
        {
          "output_type": "display_data",
          "data": {
            "text/plain": [
              "<Figure size 576x576 with 1 Axes>"
            ],
            "image/png": "[encoded data removed]"
          },
          "metadata": {
            "needs_background": "light"
          }
        }
      ]
    },
    {
      "cell_type": "code",
      "source": [
        "# divide the total number of emotions together into 8 groups by grouping \n",
        "# sourced from sentiment analysis research paper\n",
        "# https://arxiv.org/ftp/arxiv/papers/2204/2204.11320.pdf\n",
        "\n",
        "# create a function which groups similar sentiments together\n",
        "def emotion_grouping(df_column):\n",
        "  excited_list = ['excited', 'surprised', 'joyful']\n",
        "  afraid_list = ['afraid', 'terrified', 'anxious', 'apprehensive']\n",
        "  disgusted_list = ['disgusted', 'embarrassed', 'guilty', 'ashamed']\n",
        "  annoyed_list = ['angry', 'annoyed', 'jealous', 'furious']\n",
        "  grateful_list = ['faithful', 'trusting', 'grateful', 'caring', 'hopeful']\n",
        "  disappointed_list = ['sad', 'disappointed', 'devastated', 'lonely', 'nostalgic', 'sentimental']\n",
        "  impressed_list = ['proud', 'impressed', 'content']\n",
        "  prepared_list = ['anticipating', 'prepared', 'confident']\n",
        "\n",
        "  new_emotion_group_list = []\n",
        "\n",
        "  for index, value in df_column.items():\n",
        "    if value in excited_list:\n",
        "      new_emotion_group_list.append('excited')\n",
        "    elif value in afraid_list:\n",
        "      new_emotion_group_list.append('afraid')\n",
        "    elif value in disgusted_list:\n",
        "      new_emotion_group_list.append('disgusted')\n",
        "    elif value in annoyed_list:\n",
        "      new_emotion_group_list.append('annoyed')\n",
        "    elif value in grateful_list:\n",
        "      new_emotion_group_list.append('grateful')\n",
        "    elif value in disappointed_list:\n",
        "      new_emotion_group_list.append('disappointed')\n",
        "    elif value in impressed_list:\n",
        "      new_emotion_group_list.append('impressed')\n",
        "    elif value in prepared_list:\n",
        "      new_emotion_group_list.append('prepared')\n",
        "  \n",
        "  return new_emotion_group_list"
      ],
      "metadata": {
        "id": "Rjsx03GPCU5t"
      },
      "execution_count": null,
      "outputs": []
    },
    {
      "cell_type": "code",
      "source": [
        "train_dataframe['context'].shape"
      ],
      "metadata": {
        "id": "aj-ZpxRiDrDH",
        "colab": {
          "base_uri": "https://localhost:8080/"
        },
        "outputId": "fe8e15f0-7e37-4930-85ed-4fab5342bcfa"
      },
      "execution_count": null,
      "outputs": [
        {
          "output_type": "execute_result",
          "data": {
            "text/plain": [
              "(19307,)"
            ]
          },
          "metadata": {},
          "execution_count": 16
        }
      ]
    },
    {
      "cell_type": "code",
      "source": [
        "# use grouping function\n",
        "train_grouped_emotions_col = emotion_grouping(train_dataframe['context'])"
      ],
      "metadata": {
        "id": "NJ3bWS6fDwQq"
      },
      "execution_count": null,
      "outputs": []
    },
    {
      "cell_type": "code",
      "source": [
        "# create new column of grouped emotions\n",
        "train_dataframe['grouped_emotions'] = train_grouped_emotions_col"
      ],
      "metadata": {
        "id": "ssFNcVN0D620"
      },
      "execution_count": null,
      "outputs": []
    },
    {
      "cell_type": "code",
      "source": [
        "train_dataframe['grouped_emotions'].shape"
      ],
      "metadata": {
        "id": "Om5pzqknEA4a",
        "colab": {
          "base_uri": "https://localhost:8080/"
        },
        "outputId": "fd433ad6-25a8-4ffa-e616-1c49407ceb6f"
      },
      "execution_count": null,
      "outputs": [
        {
          "output_type": "execute_result",
          "data": {
            "text/plain": [
              "(19307,)"
            ]
          },
          "metadata": {},
          "execution_count": 19
        }
      ]
    },
    {
      "cell_type": "code",
      "source": [
        "# check side-by-side comparision with original emotions columns and grouped emotions column\n",
        "train_dataframe[['context','grouped_emotions']].head(10)"
      ],
      "metadata": {
        "id": "q2Nbr2HREDKH",
        "colab": {
          "base_uri": "https://localhost:8080/",
          "height": 363
        },
        "outputId": "b98c3f25-8a4d-4d2c-b99f-23333a5c343a"
      },
      "execution_count": null,
      "outputs": [
        {
          "output_type": "execute_result",
          "data": {
            "text/plain": [
              "       context grouped_emotions\n",
              "0  sentimental     disappointed\n",
              "1       afraid           afraid\n",
              "2        proud        impressed\n",
              "3     faithful         grateful\n",
              "4    terrified           afraid\n",
              "5       joyful          excited\n",
              "6        angry          annoyed\n",
              "7          sad     disappointed\n",
              "8      jealous          annoyed\n",
              "9    terrified           afraid"
            ],
            "text/html": [
              "\n",
              "  <div id=\"df-a6ca1722-f5a5-4bab-9d03-a29fe2d491cb\">\n",
              "    <div class=\"colab-df-container\">\n",
              "      <div>\n",
              "<style scoped>\n",
              "    .dataframe tbody tr th:only-of-type {\n",
              "        vertical-align: middle;\n",
              "    }\n",
              "\n",
              "    .dataframe tbody tr th {\n",
              "        vertical-align: top;\n",
              "    }\n",
              "\n",
              "    .dataframe thead th {\n",
              "        text-align: right;\n",
              "    }\n",
              "</style>\n",
              "<table border=\"1\" class=\"dataframe\">\n",
              "  <thead>\n",
              "    <tr style=\"text-align: right;\">\n",
              "      <th></th>\n",
              "      <th>context</th>\n",
              "      <th>grouped_emotions</th>\n",
              "    </tr>\n",
              "  </thead>\n",
              "  <tbody>\n",
              "    <tr>\n",
              "      <th>0</th>\n",
              "      <td>sentimental</td>\n",
              "      <td>disappointed</td>\n",
              "    </tr>\n",
              "    <tr>\n",
              "      <th>1</th>\n",
              "      <td>afraid</td>\n",
              "      <td>afraid</td>\n",
              "    </tr>\n",
              "    <tr>\n",
              "      <th>2</th>\n",
              "      <td>proud</td>\n",
              "      <td>impressed</td>\n",
              "    </tr>\n",
              "    <tr>\n",
              "      <th>3</th>\n",
              "      <td>faithful</td>\n",
              "      <td>grateful</td>\n",
              "    </tr>\n",
              "    <tr>\n",
              "      <th>4</th>\n",
              "      <td>terrified</td>\n",
              "      <td>afraid</td>\n",
              "    </tr>\n",
              "    <tr>\n",
              "      <th>5</th>\n",
              "      <td>joyful</td>\n",
              "      <td>excited</td>\n",
              "    </tr>\n",
              "    <tr>\n",
              "      <th>6</th>\n",
              "      <td>angry</td>\n",
              "      <td>annoyed</td>\n",
              "    </tr>\n",
              "    <tr>\n",
              "      <th>7</th>\n",
              "      <td>sad</td>\n",
              "      <td>disappointed</td>\n",
              "    </tr>\n",
              "    <tr>\n",
              "      <th>8</th>\n",
              "      <td>jealous</td>\n",
              "      <td>annoyed</td>\n",
              "    </tr>\n",
              "    <tr>\n",
              "      <th>9</th>\n",
              "      <td>terrified</td>\n",
              "      <td>afraid</td>\n",
              "    </tr>\n",
              "  </tbody>\n",
              "</table>\n",
              "</div>\n",
              "      <button class=\"colab-df-convert\" onclick=\"convertToInteractive('df-a6ca1722-f5a5-4bab-9d03-a29fe2d491cb')\"\n",
              "              title=\"Convert this dataframe to an interactive table.\"\n",
              "              style=\"display:none;\">\n",
              "        \n",
              "  <svg xmlns=\"http://www.w3.org/2000/svg\" height=\"24px\"viewBox=\"0 0 24 24\"\n",
              "       width=\"24px\">\n",
              "    <path d=\"M0 0h24v24H0V0z\" fill=\"none\"/>\n",
              "    <path d=\"M18.56 5.44l.94 2.06.94-2.06 2.06-.94-2.06-.94-.94-2.06-.94 2.06-2.06.94zm-11 1L8.5 8.5l.94-2.06 2.06-.94-2.06-.94L8.5 2.5l-.94 2.06-2.06.94zm10 10l.94 2.06.94-2.06 2.06-.94-2.06-.94-.94-2.06-.94 2.06-2.06.94z\"/><path d=\"M17.41 7.96l-1.37-1.37c-.4-.4-.92-.59-1.43-.59-.52 0-1.04.2-1.43.59L10.3 9.45l-7.72 7.72c-.78.78-.78 2.05 0 2.83L4 21.41c.39.39.9.59 1.41.59.51 0 1.02-.2 1.41-.59l7.78-7.78 2.81-2.81c.8-.78.8-2.07 0-2.86zM5.41 20L4 18.59l7.72-7.72 1.47 1.35L5.41 20z\"/>\n",
              "  </svg>\n",
              "      </button>\n",
              "      \n",
              "  <style>\n",
              "    .colab-df-container {\n",
              "      display:flex;\n",
              "      flex-wrap:wrap;\n",
              "      gap: 12px;\n",
              "    }\n",
              "\n",
              "    .colab-df-convert {\n",
              "      background-color: #E8F0FE;\n",
              "      border: none;\n",
              "      border-radius: 50%;\n",
              "      cursor: pointer;\n",
              "      display: none;\n",
              "      fill: #1967D2;\n",
              "      height: 32px;\n",
              "      padding: 0 0 0 0;\n",
              "      width: 32px;\n",
              "    }\n",
              "\n",
              "    .colab-df-convert:hover {\n",
              "      background-color: #E2EBFA;\n",
              "      box-shadow: 0px 1px 2px rgba(60, 64, 67, 0.3), 0px 1px 3px 1px rgba(60, 64, 67, 0.15);\n",
              "      fill: #174EA6;\n",
              "    }\n",
              "\n",
              "    [theme=dark] .colab-df-convert {\n",
              "      background-color: #3B4455;\n",
              "      fill: #D2E3FC;\n",
              "    }\n",
              "\n",
              "    [theme=dark] .colab-df-convert:hover {\n",
              "      background-color: #434B5C;\n",
              "      box-shadow: 0px 1px 3px 1px rgba(0, 0, 0, 0.15);\n",
              "      filter: drop-shadow(0px 1px 2px rgba(0, 0, 0, 0.3));\n",
              "      fill: #FFFFFF;\n",
              "    }\n",
              "  </style>\n",
              "\n",
              "      <script>\n",
              "        const buttonEl =\n",
              "          document.querySelector('#df-a6ca1722-f5a5-4bab-9d03-a29fe2d491cb button.colab-df-convert');\n",
              "        buttonEl.style.display =\n",
              "          google.colab.kernel.accessAllowed ? 'block' : 'none';\n",
              "\n",
              "        async function convertToInteractive(key) {\n",
              "          const element = document.querySelector('#df-a6ca1722-f5a5-4bab-9d03-a29fe2d491cb');\n",
              "          const dataTable =\n",
              "            await google.colab.kernel.invokeFunction('convertToInteractive',\n",
              "                                                     [key], {});\n",
              "          if (!dataTable) return;\n",
              "\n",
              "          const docLinkHtml = 'Like what you see? Visit the ' +\n",
              "            '<a target=\"_blank\" href=https://colab.research.google.com/notebooks/data_table.ipynb>data table notebook</a>'\n",
              "            + ' to learn more about interactive tables.';\n",
              "          element.innerHTML = '';\n",
              "          dataTable['output_type'] = 'display_data';\n",
              "          await google.colab.output.renderOutput(dataTable, element);\n",
              "          const docLink = document.createElement('div');\n",
              "          docLink.innerHTML = docLinkHtml;\n",
              "          element.appendChild(docLink);\n",
              "        }\n",
              "      </script>\n",
              "    </div>\n",
              "  </div>\n",
              "  "
            ]
          },
          "metadata": {},
          "execution_count": 20
        }
      ]
    },
    {
      "cell_type": "code",
      "source": [
        "train_dataframe['grouped_emotions'].value_counts()"
      ],
      "metadata": {
        "id": "Aptr_5lfEXBs",
        "colab": {
          "base_uri": "https://localhost:8080/"
        },
        "outputId": "c4a4ff94-d4c8-4674-b6d1-b395eb4d1454"
      },
      "execution_count": null,
      "outputs": [
        {
          "output_type": "execute_result",
          "data": {
            "text/plain": [
              "disappointed    3562\n",
              "grateful        2630\n",
              "annoyed         2526\n",
              "excited         2338\n",
              "afraid          2318\n",
              "disgusted       2277\n",
              "impressed       1857\n",
              "prepared        1799\n",
              "Name: grouped_emotions, dtype: int64"
            ]
          },
          "metadata": {},
          "execution_count": 21
        }
      ]
    },
    {
      "cell_type": "code",
      "source": [
        "# updated horizontal bar chart visualizing grouped emotions\n",
        "train_dataframe.grouped_emotions.value_counts().sort_values().plot(kind = 'barh', linewidth=20, figsize = [8,8], title='Sentiment Frequency Training Data')"
      ],
      "metadata": {
        "id": "2LXt_Ck0EbLw",
        "colab": {
          "base_uri": "https://localhost:8080/",
          "height": 516
        },
        "outputId": "b2f4bbcb-79c9-4cb9-fd1b-a0a8ccdf0ef4"
      },
      "execution_count": null,
      "outputs": [
        {
          "output_type": "execute_result",
          "data": {
            "text/plain": [
              "<matplotlib.axes._subplots.AxesSubplot at 0x7f23710ef410>"
            ]
          },
          "metadata": {},
          "execution_count": 22
        },
        {
          "output_type": "display_data",
          "data": {
            "text/plain": [
              "<Figure size 576x576 with 1 Axes>"
            ],
            "image/png": "[encoded data removed]"
          },
          "metadata": {
            "needs_background": "light"
          }
        }
      ]
    },
    {
      "cell_type": "code",
      "source": [
        "# for validation data\n",
        "# load valid csv file\n",
        "splitname = \"valid\"\n",
        "path = '/content/empatheticdialogues'\n",
        "\n",
        "# create variable for training dataset\n",
        "valid_df = open(os.path.join(path, f\"{splitname}.csv\")).readlines()\n",
        "print(valid_df[0].strip().split(\",\"))\n",
        "print(type(valid_df))"
      ],
      "metadata": {
        "id": "Ef8jbXWvEjgx",
        "colab": {
          "base_uri": "https://localhost:8080/"
        },
        "outputId": "c05728a5-ef46-4df5-d5d8-bc598c5ab527"
      },
      "execution_count": null,
      "outputs": [
        {
          "output_type": "stream",
          "name": "stdout",
          "text": [
            "['conv_id', 'utterance_idx', 'context', 'prompt', 'speaker_idx', 'utterance', 'selfeval', 'tags']\n",
            "<class 'list'>\n"
          ]
        }
      ]
    },
    {
      "cell_type": "code",
      "source": [
        "# load the prompt (message), and context (mood/label) from the valid data into their own arrays\n",
        "raw_valid_prompt_list = []\n",
        "raw_valid_context_list = []\n",
        "\n",
        "for i in range(1, len(valid_df)):\n",
        "  data_line = valid_df[i].strip().split(\",\")\n",
        "  raw_valid_context_list.append(data_line[2])\n",
        "  raw_valid_prompt_list.append(data_line[3].replace(\"_comma_\", \",\"))"
      ],
      "metadata": {
        "id": "KwHVOwJnEndj"
      },
      "execution_count": null,
      "outputs": []
    },
    {
      "cell_type": "code",
      "source": [
        "# create pandas validation dataframe using arrays\n",
        "valid_dataframe = pd.DataFrame(columns=['prompt','context'])\n",
        "valid_dataframe['prompt'] = raw_valid_prompt_list\n",
        "valid_dataframe['context'] = raw_valid_context_list"
      ],
      "metadata": {
        "id": "lLiqc7V1Ep3n"
      },
      "execution_count": null,
      "outputs": []
    },
    {
      "cell_type": "code",
      "source": [
        "print(f\"There are {len(valid_dataframe)} rows in the validation dataset.\")"
      ],
      "metadata": {
        "id": "zhnBgiTdEsPD",
        "colab": {
          "base_uri": "https://localhost:8080/"
        },
        "outputId": "5d3145eb-8f78-4b61-fc3a-6623ed85dd52"
      },
      "execution_count": null,
      "outputs": [
        {
          "output_type": "stream",
          "name": "stdout",
          "text": [
            "There are 12078 rows in the validation dataset.\n"
          ]
        }
      ]
    },
    {
      "cell_type": "code",
      "source": [
        "total_duplicate_valid = sum(valid_dataframe[['prompt','context']].duplicated())\n",
        "print(f\"There are {total_duplicate_valid} duplicate prompts (messages) to context (emotion) rows in the validation data.\")"
      ],
      "metadata": {
        "id": "-QeF6Nv7EwAT",
        "colab": {
          "base_uri": "https://localhost:8080/"
        },
        "outputId": "30de180e-d24d-47c7-e9ba-6f89619ac529"
      },
      "execution_count": null,
      "outputs": [
        {
          "output_type": "stream",
          "name": "stdout",
          "text": [
            "There are 9321 duplicate prompts (messages) to context (emotion) rows in the validation data.\n"
          ]
        }
      ]
    },
    {
      "cell_type": "code",
      "source": [
        "# If we remove duplicates there will be 2757 rows of validation data\n",
        "12078-9321"
      ],
      "metadata": {
        "id": "GiHODe_kE044",
        "colab": {
          "base_uri": "https://localhost:8080/"
        },
        "outputId": "73ee1cda-dba9-44d3-c756-c408df3e649e"
      },
      "execution_count": null,
      "outputs": [
        {
          "output_type": "execute_result",
          "data": {
            "text/plain": [
              "2757"
            ]
          },
          "metadata": {},
          "execution_count": 28
        }
      ]
    },
    {
      "cell_type": "code",
      "source": [
        "# lets drop duplicate enteries of prompts, context\n",
        "valid_dataframe = valid_dataframe.drop_duplicates(ignore_index=True)\n",
        "valid_dataframe.shape"
      ],
      "metadata": {
        "id": "khzDG4JpE52X",
        "colab": {
          "base_uri": "https://localhost:8080/"
        },
        "outputId": "e572d5f3-c21d-4c39-84a0-3ec85a5570fa"
      },
      "execution_count": null,
      "outputs": [
        {
          "output_type": "execute_result",
          "data": {
            "text/plain": [
              "(2757, 2)"
            ]
          },
          "metadata": {},
          "execution_count": 29
        }
      ]
    },
    {
      "cell_type": "code",
      "source": [
        "# display random message from validation data frame with accompying sentiment\n",
        "idx = np.random.randint(valid_dataframe.shape[0])\n",
        "print('Valid DF row is: ', idx)\n",
        "print('Message: ', valid_dataframe['prompt'].iloc[idx])\n",
        "print('Sentiment: ', valid_dataframe['context'].iloc[idx])"
      ],
      "metadata": {
        "id": "r9VAqZ1jE-m0",
        "colab": {
          "base_uri": "https://localhost:8080/"
        },
        "outputId": "e5931a4e-83b3-4864-c3ee-b6737dafd402"
      },
      "execution_count": null,
      "outputs": [
        {
          "output_type": "stream",
          "name": "stdout",
          "text": [
            "Valid DF row is:  237\n",
            "Message:  I lost someone special long time ago, I felt so gloomy and depressed\n",
            "Sentiment:  sad\n"
          ]
        }
      ]
    },
    {
      "cell_type": "code",
      "source": [
        "print(valid_dataframe['context'].value_counts())"
      ],
      "metadata": {
        "id": "OJbokFGRFD_g",
        "colab": {
          "base_uri": "https://localhost:8080/"
        },
        "outputId": "dede9764-3e64-4282-9182-eaa02fb20c2c"
      },
      "execution_count": null,
      "outputs": [
        {
          "output_type": "stream",
          "name": "stdout",
          "text": [
            "surprised       148\n",
            "annoyed         118\n",
            "impressed       102\n",
            "sad             102\n",
            "excited          97\n",
            "embarrassed      96\n",
            "confident        94\n",
            "lonely           94\n",
            "prepared         92\n",
            "disappointed     91\n",
            "jealous          89\n",
            "afraid           89\n",
            "proud            85\n",
            "joyful           85\n",
            "angry            84\n",
            "content          84\n",
            "nostalgic        83\n",
            "sentimental      82\n",
            "anxious          82\n",
            "disgusted        81\n",
            "terrified        81\n",
            "hopeful          81\n",
            "furious          77\n",
            "caring           76\n",
            "devastated       76\n",
            "anticipating     75\n",
            "grateful         75\n",
            "apprehensive     74\n",
            "trusting         72\n",
            "guilty           71\n",
            "ashamed          70\n",
            "faithful         51\n",
            "Name: context, dtype: int64\n"
          ]
        }
      ]
    },
    {
      "cell_type": "code",
      "source": [
        "# visualize value counts of sentiments of validation data using horizontal bar plot \n",
        "valid_dataframe.context.value_counts().sort_values().plot(kind = 'barh', linewidth=20, figsize = [8,8], title='Sentiment Frequency Validation Data')"
      ],
      "metadata": {
        "id": "8S3kZswbFE72",
        "colab": {
          "base_uri": "https://localhost:8080/",
          "height": 516
        },
        "outputId": "3ab25152-84f0-40eb-e511-84bce6cf0b01"
      },
      "execution_count": null,
      "outputs": [
        {
          "output_type": "execute_result",
          "data": {
            "text/plain": [
              "<matplotlib.axes._subplots.AxesSubplot at 0x7f23e9b14950>"
            ]
          },
          "metadata": {},
          "execution_count": 32
        },
        {
          "output_type": "display_data",
          "data": {
            "text/plain": [
              "<Figure size 576x576 with 1 Axes>"
            ],
            "image/png": "[encoded data removed]"
          },
          "metadata": {
            "needs_background": "light"
          }
        }
      ]
    },
    {
      "cell_type": "code",
      "source": [
        "# we grouped emotions in training data, we need to do the same with validation data\n",
        "valid_grouped_emotions_col = emotion_grouping(valid_dataframe['context'])"
      ],
      "metadata": {
        "id": "ix_Dq_0LFSlz"
      },
      "execution_count": null,
      "outputs": []
    },
    {
      "cell_type": "code",
      "source": [
        "valid_dataframe['grouped_emotions'] = valid_grouped_emotions_col"
      ],
      "metadata": {
        "id": "15ds8IxxFc2D"
      },
      "execution_count": null,
      "outputs": []
    },
    {
      "cell_type": "code",
      "source": [
        "# check side-by-side comparision with original emotions columns and grouped emotions column\n",
        "valid_dataframe[['context','grouped_emotions']].head(10)"
      ],
      "metadata": {
        "id": "kzYiLoVZF5ek",
        "colab": {
          "base_uri": "https://localhost:8080/",
          "height": 363
        },
        "outputId": "2dbf85ba-1074-48e8-98e5-8635feeb09aa"
      },
      "execution_count": null,
      "outputs": [
        {
          "output_type": "execute_result",
          "data": {
            "text/plain": [
              "       context grouped_emotions\n",
              "0    terrified           afraid\n",
              "1    surprised          excited\n",
              "2      excited          excited\n",
              "3    disgusted        disgusted\n",
              "4       caring         grateful\n",
              "5  sentimental     disappointed\n",
              "6          sad     disappointed\n",
              "7  embarrassed        disgusted\n",
              "8       afraid           afraid\n",
              "9    impressed        impressed"
            ],
            "text/html": [
              "\n",
              "  <div id=\"df-aad2c11d-d60a-4d0e-8fa0-c309b1c58947\">\n",
              "    <div class=\"colab-df-container\">\n",
              "      <div>\n",
              "<style scoped>\n",
              "    .dataframe tbody tr th:only-of-type {\n",
              "        vertical-align: middle;\n",
              "    }\n",
              "\n",
              "    .dataframe tbody tr th {\n",
              "        vertical-align: top;\n",
              "    }\n",
              "\n",
              "    .dataframe thead th {\n",
              "        text-align: right;\n",
              "    }\n",
              "</style>\n",
              "<table border=\"1\" class=\"dataframe\">\n",
              "  <thead>\n",
              "    <tr style=\"text-align: right;\">\n",
              "      <th></th>\n",
              "      <th>context</th>\n",
              "      <th>grouped_emotions</th>\n",
              "    </tr>\n",
              "  </thead>\n",
              "  <tbody>\n",
              "    <tr>\n",
              "      <th>0</th>\n",
              "      <td>terrified</td>\n",
              "      <td>afraid</td>\n",
              "    </tr>\n",
              "    <tr>\n",
              "      <th>1</th>\n",
              "      <td>surprised</td>\n",
              "      <td>excited</td>\n",
              "    </tr>\n",
              "    <tr>\n",
              "      <th>2</th>\n",
              "      <td>excited</td>\n",
              "      <td>excited</td>\n",
              "    </tr>\n",
              "    <tr>\n",
              "      <th>3</th>\n",
              "      <td>disgusted</td>\n",
              "      <td>disgusted</td>\n",
              "    </tr>\n",
              "    <tr>\n",
              "      <th>4</th>\n",
              "      <td>caring</td>\n",
              "      <td>grateful</td>\n",
              "    </tr>\n",
              "    <tr>\n",
              "      <th>5</th>\n",
              "      <td>sentimental</td>\n",
              "      <td>disappointed</td>\n",
              "    </tr>\n",
              "    <tr>\n",
              "      <th>6</th>\n",
              "      <td>sad</td>\n",
              "      <td>disappointed</td>\n",
              "    </tr>\n",
              "    <tr>\n",
              "      <th>7</th>\n",
              "      <td>embarrassed</td>\n",
              "      <td>disgusted</td>\n",
              "    </tr>\n",
              "    <tr>\n",
              "      <th>8</th>\n",
              "      <td>afraid</td>\n",
              "      <td>afraid</td>\n",
              "    </tr>\n",
              "    <tr>\n",
              "      <th>9</th>\n",
              "      <td>impressed</td>\n",
              "      <td>impressed</td>\n",
              "    </tr>\n",
              "  </tbody>\n",
              "</table>\n",
              "</div>\n",
              "      <button class=\"colab-df-convert\" onclick=\"convertToInteractive('df-aad2c11d-d60a-4d0e-8fa0-c309b1c58947')\"\n",
              "              title=\"Convert this dataframe to an interactive table.\"\n",
              "              style=\"display:none;\">\n",
              "        \n",
              "  <svg xmlns=\"http://www.w3.org/2000/svg\" height=\"24px\"viewBox=\"0 0 24 24\"\n",
              "       width=\"24px\">\n",
              "    <path d=\"M0 0h24v24H0V0z\" fill=\"none\"/>\n",
              "    <path d=\"M18.56 5.44l.94 2.06.94-2.06 2.06-.94-2.06-.94-.94-2.06-.94 2.06-2.06.94zm-11 1L8.5 8.5l.94-2.06 2.06-.94-2.06-.94L8.5 2.5l-.94 2.06-2.06.94zm10 10l.94 2.06.94-2.06 2.06-.94-2.06-.94-.94-2.06-.94 2.06-2.06.94z\"/><path d=\"M17.41 7.96l-1.37-1.37c-.4-.4-.92-.59-1.43-.59-.52 0-1.04.2-1.43.59L10.3 9.45l-7.72 7.72c-.78.78-.78 2.05 0 2.83L4 21.41c.39.39.9.59 1.41.59.51 0 1.02-.2 1.41-.59l7.78-7.78 2.81-2.81c.8-.78.8-2.07 0-2.86zM5.41 20L4 18.59l7.72-7.72 1.47 1.35L5.41 20z\"/>\n",
              "  </svg>\n",
              "      </button>\n",
              "      \n",
              "  <style>\n",
              "    .colab-df-container {\n",
              "      display:flex;\n",
              "      flex-wrap:wrap;\n",
              "      gap: 12px;\n",
              "    }\n",
              "\n",
              "    .colab-df-convert {\n",
              "      background-color: #E8F0FE;\n",
              "      border: none;\n",
              "      border-radius: 50%;\n",
              "      cursor: pointer;\n",
              "      display: none;\n",
              "      fill: #1967D2;\n",
              "      height: 32px;\n",
              "      padding: 0 0 0 0;\n",
              "      width: 32px;\n",
              "    }\n",
              "\n",
              "    .colab-df-convert:hover {\n",
              "      background-color: #E2EBFA;\n",
              "      box-shadow: 0px 1px 2px rgba(60, 64, 67, 0.3), 0px 1px 3px 1px rgba(60, 64, 67, 0.15);\n",
              "      fill: #174EA6;\n",
              "    }\n",
              "\n",
              "    [theme=dark] .colab-df-convert {\n",
              "      background-color: #3B4455;\n",
              "      fill: #D2E3FC;\n",
              "    }\n",
              "\n",
              "    [theme=dark] .colab-df-convert:hover {\n",
              "      background-color: #434B5C;\n",
              "      box-shadow: 0px 1px 3px 1px rgba(0, 0, 0, 0.15);\n",
              "      filter: drop-shadow(0px 1px 2px rgba(0, 0, 0, 0.3));\n",
              "      fill: #FFFFFF;\n",
              "    }\n",
              "  </style>\n",
              "\n",
              "      <script>\n",
              "        const buttonEl =\n",
              "          document.querySelector('#df-aad2c11d-d60a-4d0e-8fa0-c309b1c58947 button.colab-df-convert');\n",
              "        buttonEl.style.display =\n",
              "          google.colab.kernel.accessAllowed ? 'block' : 'none';\n",
              "\n",
              "        async function convertToInteractive(key) {\n",
              "          const element = document.querySelector('#df-aad2c11d-d60a-4d0e-8fa0-c309b1c58947');\n",
              "          const dataTable =\n",
              "            await google.colab.kernel.invokeFunction('convertToInteractive',\n",
              "                                                     [key], {});\n",
              "          if (!dataTable) return;\n",
              "\n",
              "          const docLinkHtml = 'Like what you see? Visit the ' +\n",
              "            '<a target=\"_blank\" href=https://colab.research.google.com/notebooks/data_table.ipynb>data table notebook</a>'\n",
              "            + ' to learn more about interactive tables.';\n",
              "          element.innerHTML = '';\n",
              "          dataTable['output_type'] = 'display_data';\n",
              "          await google.colab.output.renderOutput(dataTable, element);\n",
              "          const docLink = document.createElement('div');\n",
              "          docLink.innerHTML = docLinkHtml;\n",
              "          element.appendChild(docLink);\n",
              "        }\n",
              "      </script>\n",
              "    </div>\n",
              "  </div>\n",
              "  "
            ]
          },
          "metadata": {},
          "execution_count": 35
        }
      ]
    },
    {
      "cell_type": "code",
      "source": [
        "valid_dataframe['grouped_emotions'].value_counts()"
      ],
      "metadata": {
        "id": "uLzfjfGBGCs5",
        "colab": {
          "base_uri": "https://localhost:8080/"
        },
        "outputId": "0d180277-2f61-444d-f996-86d31d34a76e"
      },
      "execution_count": null,
      "outputs": [
        {
          "output_type": "execute_result",
          "data": {
            "text/plain": [
              "disappointed    528\n",
              "annoyed         368\n",
              "grateful        355\n",
              "excited         330\n",
              "afraid          326\n",
              "disgusted       318\n",
              "impressed       271\n",
              "prepared        261\n",
              "Name: grouped_emotions, dtype: int64"
            ]
          },
          "metadata": {},
          "execution_count": 36
        }
      ]
    },
    {
      "cell_type": "code",
      "source": [
        "# updated horizontal bar chart visualizing grouped emotions\n",
        "valid_dataframe.grouped_emotions.value_counts().sort_values().plot(kind = 'barh', linewidth=20, figsize = [8,8], title='Sentiment Frequency Validation Data')"
      ],
      "metadata": {
        "id": "7Z1J7wR1GGGH",
        "colab": {
          "base_uri": "https://localhost:8080/",
          "height": 516
        },
        "outputId": "fe4fe93e-b5dc-4cea-b678-91c7a0143e9a"
      },
      "execution_count": null,
      "outputs": [
        {
          "output_type": "execute_result",
          "data": {
            "text/plain": [
              "<matplotlib.axes._subplots.AxesSubplot at 0x7f2370b50b10>"
            ]
          },
          "metadata": {},
          "execution_count": 37
        },
        {
          "output_type": "display_data",
          "data": {
            "text/plain": [
              "<Figure size 576x576 with 1 Axes>"
            ],
            "image/png": "[encoded data removed]"
          },
          "metadata": {
            "needs_background": "light"
          }
        }
      ]
    },
    {
      "cell_type": "code",
      "source": [
        "# for testing data\n",
        "# load test csv file \n",
        "splitname = \"test\"\n",
        "path = '/content/empatheticdialogues'\n",
        "\n",
        "# create variable for training dataset\n",
        "test_df = open(os.path.join(path, f\"{splitname}.csv\")).readlines()\n",
        "print(test_df[0].strip().split(\",\"))\n",
        "print(type(test_df))"
      ],
      "metadata": {
        "id": "Z9BSXideGOWX",
        "colab": {
          "base_uri": "https://localhost:8080/"
        },
        "outputId": "1c431060-cddf-4f52-c5c8-becd70c7b5c6"
      },
      "execution_count": null,
      "outputs": [
        {
          "output_type": "stream",
          "name": "stdout",
          "text": [
            "['conv_id', 'utterance_idx', 'context', 'prompt', 'speaker_idx', 'utterance', 'selfeval', 'tags']\n",
            "<class 'list'>\n"
          ]
        }
      ]
    },
    {
      "cell_type": "code",
      "source": [
        "# load the prompt (message), and context (mood/label) from the test data into their own arrays\n",
        "raw_test_prompt_list = []\n",
        "raw_test_context_list = []\n",
        "\n",
        "for i in range(1, len(test_df)):\n",
        "  data_line = test_df[i].strip().split(\",\")\n",
        "  raw_test_context_list.append(data_line[2])\n",
        "  raw_test_prompt_list.append(data_line[3].replace(\"_comma_\", \",\"))"
      ],
      "metadata": {
        "id": "iZw2OQxnGRHv"
      },
      "execution_count": null,
      "outputs": []
    },
    {
      "cell_type": "code",
      "source": [
        "# create pandas dataframe using lists \n",
        "test_dataframe = pd.DataFrame(columns=['prompt','context'])\n",
        "test_dataframe['prompt'] = raw_test_prompt_list\n",
        "test_dataframe['context'] = raw_test_context_list"
      ],
      "metadata": {
        "id": "meqoCrnHGVet"
      },
      "execution_count": null,
      "outputs": []
    },
    {
      "cell_type": "code",
      "source": [
        "test_dataframe.shape"
      ],
      "metadata": {
        "id": "4l-eIm1MGYCH",
        "colab": {
          "base_uri": "https://localhost:8080/"
        },
        "outputId": "3bcd3bd4-cfda-4690-84e6-3e3dea3d1ffb"
      },
      "execution_count": null,
      "outputs": [
        {
          "output_type": "execute_result",
          "data": {
            "text/plain": [
              "(10973, 2)"
            ]
          },
          "metadata": {},
          "execution_count": 41
        }
      ]
    },
    {
      "cell_type": "code",
      "source": [
        "test_duplicate_valid = sum(test_dataframe[['prompt','context']].duplicated())\n",
        "print(f\"There are {test_duplicate_valid} duplicate prompts (messages) to context (emotion) rows in the test data.\")"
      ],
      "metadata": {
        "id": "Ii37SKIeGa0C",
        "colab": {
          "base_uri": "https://localhost:8080/"
        },
        "outputId": "bc90e875-df29-485e-8fff-959626f52240"
      },
      "execution_count": null,
      "outputs": [
        {
          "output_type": "stream",
          "name": "stdout",
          "text": [
            "There are 8430 duplicate prompts (messages) to context (emotion) rows in the test data.\n"
          ]
        }
      ]
    },
    {
      "cell_type": "code",
      "source": [
        "# If we remove duplicates there will be 2543 rows of test data\n",
        "# WE WILL NOT REMOVE DUPLICATES FROM TEST DATA"
      ],
      "metadata": {
        "id": "zFWyLKH1GqgM"
      },
      "execution_count": null,
      "outputs": []
    },
    {
      "cell_type": "code",
      "source": [
        "# group emotions together for tet data using function\n",
        "test_grouped_emotions_col = emotion_grouping(test_dataframe['context'])"
      ],
      "metadata": {
        "id": "B8efYL8UG6ox"
      },
      "execution_count": null,
      "outputs": []
    },
    {
      "cell_type": "code",
      "source": [
        "test_dataframe['grouped_emotions'] = test_grouped_emotions_col"
      ],
      "metadata": {
        "id": "PoIB26wTHE43"
      },
      "execution_count": null,
      "outputs": []
    },
    {
      "cell_type": "code",
      "source": [
        "test_dataframe['grouped_emotions'].shape"
      ],
      "metadata": {
        "id": "9N65dqEhHHXV",
        "colab": {
          "base_uri": "https://localhost:8080/"
        },
        "outputId": "bc92eb48-0fa8-4a8d-b8ff-dfa1850016ba"
      },
      "execution_count": null,
      "outputs": [
        {
          "output_type": "execute_result",
          "data": {
            "text/plain": [
              "(10973,)"
            ]
          },
          "metadata": {},
          "execution_count": 46
        }
      ]
    },
    {
      "cell_type": "code",
      "source": [
        "# display random message from test data frame with accompying sentiment\n",
        "idx = np.random.randint(test_dataframe.shape[0])\n",
        "print('Test DF row is: ', idx)\n",
        "print('Message: ', test_dataframe['prompt'].iloc[idx])\n",
        "print('Sentiment: ', test_dataframe['grouped_emotions'].iloc[idx])"
      ],
      "metadata": {
        "id": "5mK4Ysp2HLX2",
        "colab": {
          "base_uri": "https://localhost:8080/"
        },
        "outputId": "18a1d3a2-cb13-40eb-abc1-03780156c2ef"
      },
      "execution_count": null,
      "outputs": [
        {
          "output_type": "stream",
          "name": "stdout",
          "text": [
            "Test DF row is:  3831\n",
            "Message:  I successfully trained my dog to behave and listen to commands. I had failed with my first dog, but in retrospect it was his breed isnt very trainable.\n",
            "Sentiment:  impressed\n"
          ]
        }
      ]
    },
    {
      "cell_type": "code",
      "source": [
        "# data extraction, EDA, cleaning phase complete"
      ],
      "metadata": {
        "id": "LkJXFJKHHSYb"
      },
      "execution_count": null,
      "outputs": []
    },
    {
      "cell_type": "markdown",
      "source": [
        "We now have the training, validation, and test data extracted, cleaned and formatted into separate pandas dataframes. Next we'll convert the text data \n",
        "into numerical vector formats to feed into the model."
      ],
      "metadata": {
        "id": "-2Beud2mHYYQ"
      }
    },
    {
      "cell_type": "code",
      "source": [
        "# data vector formatting phase"
      ],
      "metadata": {
        "id": "tIFi5OGRIX_I"
      },
      "execution_count": null,
      "outputs": []
    },
    {
      "cell_type": "code",
      "source": [
        "# Multi-label binarization preprocessing for target labels\n",
        "# https://keras.io/examples/nlp/multi_label_classification/\n",
        "\n",
        "sentiment = tf.ragged.constant(train_dataframe['grouped_emotions'].values)\n",
        "lookup = tf.keras.layers.StringLookup(output_mode=\"multi_hot\")\n",
        "lookup.adapt(sentiment)\n",
        "# the sentiment vocabulary added the [UNK] OOV token for unknown values\n",
        "sentiment_vocab = lookup.get_vocabulary()\n",
        "\n",
        "# [UNK] token created to cover unknown emotion sentiments\n",
        "print(\"Sentiment Vocabulary:\\n\")\n",
        "print(sentiment_vocab)"
      ],
      "metadata": {
        "id": "1N7mDce2Igqk",
        "colab": {
          "base_uri": "https://localhost:8080/"
        },
        "outputId": "d085eeaf-35ff-4ee0-91db-0ce1aa751677"
      },
      "execution_count": null,
      "outputs": [
        {
          "output_type": "stream",
          "name": "stdout",
          "text": [
            "Sentiment Vocabulary:\n",
            "\n",
            "['[UNK]', 'disappointed', 'grateful', 'annoyed', 'excited', 'afraid', 'disgusted', 'impressed', 'prepared']\n"
          ]
        }
      ]
    },
    {
      "cell_type": "code",
      "source": [
        "# function to invert multi_hot target labels to string version sentiment\n",
        "\n",
        "def invert_multi_hot(encoded_labels):\n",
        "    \"\"\"Reverse a single multi-hot encoded label to a string vocab term.\"\"\"\n",
        "    hot_indices = np.argwhere(encoded_labels == 1.0)[..., 0]\n",
        "    return np.take(sentiment_vocab, hot_indices)"
      ],
      "metadata": {
        "id": "csHQiEvYKJlG"
      },
      "execution_count": null,
      "outputs": []
    },
    {
      "cell_type": "code",
      "source": [
        "# testing multi_hot labels with the invert function\n",
        "\n",
        "idx = np.random.randint(test_dataframe.shape[0])\n",
        "# display original string context label with associated one hot encoded version\n",
        "sample_label = train_dataframe['grouped_emotions'].iloc[idx]\n",
        "print(f\"Original label: {sample_label}\")\n",
        "\n",
        "# display one hot encoded binary version of target label\n",
        "label_binarized = lookup([sample_label])\n",
        "print(f\"Label-binarized representation: {label_binarized}\")"
      ],
      "metadata": {
        "id": "fbW7xLeAKOsE",
        "colab": {
          "base_uri": "https://localhost:8080/"
        },
        "outputId": "9a127c20-4431-440f-e4d3-1611b08a3d46"
      },
      "execution_count": null,
      "outputs": [
        {
          "output_type": "stream",
          "name": "stdout",
          "text": [
            "Original label: disgusted\n",
            "Label-binarized representation: [0. 0. 0. 0. 0. 0. 1. 0. 0.]\n"
          ]
        }
      ]
    },
    {
      "cell_type": "code",
      "source": [
        "batch_size = 128\n",
        "\n",
        "# function takes a pandas dataframe and returns a tensor.dataset object\n",
        "# with string targets (messages) and one_hot binary versions of the targets\n",
        "def make_dataset(dataframe, is_train=True):\n",
        "    labels = tf.ragged.constant(dataframe[\"grouped_emotions\"].values)\n",
        "    labels_binarized = [lookup(x).numpy() for x in labels]\n",
        "    # labels_binarized_tensor = tf.convert_to_tensor(labels_binarized)\n",
        "    dataset = tf.data.Dataset.from_tensor_slices((dataframe['prompt'].values, labels_binarized))\n",
        "    dataset = dataset.shuffle(batch_size * 10) if is_train else dataset\n",
        "    return dataset.batch(batch_size)"
      ],
      "metadata": {
        "id": "T61oTSpKKiUV"
      },
      "execution_count": null,
      "outputs": []
    },
    {
      "cell_type": "code",
      "source": [
        "# Now we can prepare the tf.data.Dataset objects. for the training, validation, and test data\n",
        "train_dataset = make_dataset(train_dataframe, is_train=True)\n",
        "validation_dataset = make_dataset(valid_dataframe, is_train=False)\n",
        "test_dataset = make_dataset(test_dataframe, is_train=False)"
      ],
      "metadata": {
        "id": "4TCeXkv1KkZl"
      },
      "execution_count": null,
      "outputs": []
    },
    {
      "cell_type": "code",
      "source": [
        "# testing the processed training dataset with the inver_multi_hot target function\n",
        "\n",
        "text_batch, label_batch = next(iter(train_dataset))\n",
        "\n",
        "for i, text in enumerate(text_batch[:5]):\n",
        "    label = label_batch[i].numpy()[None, ...]\n",
        "    print(f\"Abstract: {text}\")\n",
        "    print(f\"Label: {invert_multi_hot(label[0])}\")\n",
        "\n",
        "    print(\" \")"
      ],
      "metadata": {
        "id": "u_EX100wK4SM",
        "colab": {
          "base_uri": "https://localhost:8080/"
        },
        "outputId": "04b0b93f-add8-4b63-c3a9-f6fbc9918fec"
      },
      "execution_count": null,
      "outputs": [
        {
          "output_type": "stream",
          "name": "stdout",
          "text": [
            "Abstract: b'I got a new job!'\n",
            "Label: ['excited']\n",
            " \n",
            "Abstract: b'I am ashamed I lied to the police.'\n",
            "Label: ['disgusted']\n",
            " \n",
            "Abstract: b\"I was on one of my social media sites and ignored a message from one of my friends who said she really needed someone to go with her to an appointment for her mom so she didn't have to sit by herself in waiting room while her mom was in the back talking with doctor. Come to find out her mom had cancer and my friend just wanted me there for support.\"\n",
            "Label: ['disgusted']\n",
            " \n",
            "Abstract: b'I had an exam to write that I was not well prepared for '\n",
            "Label: ['afraid']\n",
            " \n",
            "Abstract: b'When my friend got a scholarship that I didnt I felt jealous but i felt bad that I was jealous and not as happy for him'\n",
            "Label: ['disgusted']\n",
            " \n"
          ]
        }
      ]
    },
    {
      "cell_type": "code",
      "source": [
        "# first get percentile estimates for the sequence lenghts of prompts (messages)\n",
        "train_dataframe[\"prompt\"].apply(lambda x: len(x.split(\" \"))).describe()"
      ],
      "metadata": {
        "id": "7PZn4h3oK7EG",
        "colab": {
          "base_uri": "https://localhost:8080/"
        },
        "outputId": "655742f5-4861-40eb-92b4-564b88e2de59"
      },
      "execution_count": null,
      "outputs": [
        {
          "output_type": "execute_result",
          "data": {
            "text/plain": [
              "count    19307.000000\n",
              "mean        18.089398\n",
              "std         10.190635\n",
              "min          1.000000\n",
              "25%         11.000000\n",
              "50%         16.000000\n",
              "75%         22.000000\n",
              "max        114.000000\n",
              "Name: prompt, dtype: float64"
            ]
          },
          "metadata": {},
          "execution_count": 56
        }
      ]
    },
    {
      "cell_type": "code",
      "source": [
        "# take number of samples in training data and divide by the mean sequence length\n",
        "19307/18 "
      ],
      "metadata": {
        "id": "dcqf2otwTgxZ",
        "colab": {
          "base_uri": "https://localhost:8080/"
        },
        "outputId": "8580f680-8e48-44d1-f88a-e1c31db8c79c"
      },
      "execution_count": null,
      "outputs": [
        {
          "output_type": "execute_result",
          "data": {
            "text/plain": [
              "1072.611111111111"
            ]
          },
          "metadata": {},
          "execution_count": 57
        }
      ]
    },
    {
      "cell_type": "code",
      "source": [
        "max_tokens = 20000\n",
        "max_sequence_length = 18\n",
        "auto = tf.data.AUTOTUNE\n",
        "\n",
        "# text vectorization layer for preparing bag of words processing approach\n",
        "text_vectorizer = tf.keras.layers.TextVectorization(\n",
        "    max_tokens=max_tokens,\n",
        "    ngrams=2,\n",
        "    output_mode=\"tf_idf\",\n",
        ")"
      ],
      "metadata": {
        "id": "Qusr_GcATrzH"
      },
      "execution_count": null,
      "outputs": []
    },
    {
      "cell_type": "code",
      "source": [
        "# `TextVectorization` layer needs to be adapted as per the vocabulary from our\n",
        "# training set.\n",
        "with tf.device(\"/CPU:0\"):\n",
        "    text_vectorizer.adapt(train_dataset.map(lambda text, label: text))\n",
        "\n",
        "train_dataset = train_dataset.map(\n",
        "    lambda text, label: (text_vectorizer(text), label), num_parallel_calls=auto\n",
        ").prefetch(auto)\n",
        "\n",
        "validation_dataset = validation_dataset.map(\n",
        "    lambda text, label: (text_vectorizer(text), label), num_parallel_calls=auto\n",
        ").prefetch(auto)\n",
        "\n",
        "test_dataset = test_dataset.map(\n",
        "    lambda text, label: (text_vectorizer(text), label), num_parallel_calls=auto\n",
        ").prefetch(auto)"
      ],
      "metadata": {
        "id": "ox6cEyy5UNKd"
      },
      "execution_count": null,
      "outputs": []
    },
    {
      "cell_type": "code",
      "source": [
        "# inspect Dataset objects\n",
        "train_dataset"
      ],
      "metadata": {
        "id": "PoNNz4XAUXKg",
        "colab": {
          "base_uri": "https://localhost:8080/"
        },
        "outputId": "9749dd85-df37-42db-f0ee-ae624fa47168"
      },
      "execution_count": null,
      "outputs": [
        {
          "output_type": "execute_result",
          "data": {
            "text/plain": [
              "<PrefetchDataset element_spec=(TensorSpec(shape=(None, 20000), dtype=tf.float32, name=None), TensorSpec(shape=(None, 9), dtype=tf.float32, name=None))>"
            ]
          },
          "metadata": {},
          "execution_count": 60
        }
      ]
    },
    {
      "cell_type": "code",
      "source": [
        "validation_dataset"
      ],
      "metadata": {
        "id": "uBgrRhFKUf6N",
        "colab": {
          "base_uri": "https://localhost:8080/"
        },
        "outputId": "7686ada1-58d3-46ba-f0d4-57d444535583"
      },
      "execution_count": null,
      "outputs": [
        {
          "output_type": "execute_result",
          "data": {
            "text/plain": [
              "<PrefetchDataset element_spec=(TensorSpec(shape=(None, 20000), dtype=tf.float32, name=None), TensorSpec(shape=(None, 9), dtype=tf.float32, name=None))>"
            ]
          },
          "metadata": {},
          "execution_count": 61
        }
      ]
    },
    {
      "cell_type": "code",
      "source": [
        "# create make model function\n",
        "\n",
        "def make_model(max_tokens=max_tokens):\n",
        "  inputs = tf.keras.Input(shape=(max_tokens,))\n",
        "  x = tf.keras.layers.Dense(90, activation='relu')(inputs)\n",
        "  x = tf.keras.layers.Dropout(0.5)(x)\n",
        "  outputs = tf.keras.layers.Dense(9, activation='softmax')(x)\n",
        "  model = tf.keras.Model(inputs,outputs)\n",
        "\n",
        "  return model"
      ],
      "metadata": {
        "id": "1BxgYJRvUi-y"
      },
      "execution_count": null,
      "outputs": []
    },
    {
      "cell_type": "code",
      "source": [
        "# call for simple model \n",
        "our_model = make_model()\n",
        "our_model.summary()"
      ],
      "metadata": {
        "id": "xhkxAqHkVrqh",
        "colab": {
          "base_uri": "https://localhost:8080/"
        },
        "outputId": "7bd50886-b225-4881-903b-ae3694d714e9"
      },
      "execution_count": null,
      "outputs": [
        {
          "output_type": "stream",
          "name": "stdout",
          "text": [
            "Model: \"model\"\n",
            "_________________________________________________________________\n",
            " Layer (type)                Output Shape              Param #   \n",
            "=================================================================\n",
            " input_1 (InputLayer)        [(None, 20000)]           0         \n",
            "                                                                 \n",
            " dense (Dense)               (None, 90)                1800090   \n",
            "                                                                 \n",
            " dropout (Dropout)           (None, 90)                0         \n",
            "                                                                 \n",
            " dense_1 (Dense)             (None, 9)                 819       \n",
            "                                                                 \n",
            "=================================================================\n",
            "Total params: 1,800,909\n",
            "Trainable params: 1,800,909\n",
            "Non-trainable params: 0\n",
            "_________________________________________________________________\n"
          ]
        }
      ]
    },
    {
      "cell_type": "code",
      "source": [
        "# best simple model: batch size = 128 - 1 Dense layer - 90 filters - relu activation - dropout = 0.5 - custom rmsprop - epochs 15 => 0.6648\n",
        "\n",
        "opt_rmsprop = tf.keras.optimizers.RMSprop(learning_rate=1e-4)\n",
        "opt_adam = tf.keras.optimizers.Adam(learning_rate=1e-4)\n",
        "\n",
        "epochs = 20\n",
        "\n",
        "our_model.compile(optimizer=opt_rmsprop, loss ='categorical_crossentropy', metrics=['categorical_accuracy'])\n",
        "\n",
        "history = our_model.fit(train_dataset, validation_data=validation_dataset, epochs=epochs)"
      ],
      "metadata": {
        "id": "rJmPYzjxWZD1",
        "colab": {
          "base_uri": "https://localhost:8080/"
        },
        "outputId": "5e40fa5f-193b-43a9-c407-3171b8fe0ca8"
      },
      "execution_count": null,
      "outputs": [
        {
          "output_type": "stream",
          "name": "stdout",
          "text": [
            "Epoch 1/20\n",
            "151/151 [==============================] - 4s 8ms/step - loss: 2.0948 - categorical_accuracy: 0.2271 - val_loss: 1.9088 - val_categorical_accuracy: 0.3663\n",
            "Epoch 2/20\n",
            "151/151 [==============================] - 1s 7ms/step - loss: 1.7703 - categorical_accuracy: 0.4197 - val_loss: 1.6546 - val_categorical_accuracy: 0.4908\n",
            "Epoch 3/20\n",
            "151/151 [==============================] - 1s 7ms/step - loss: 1.4948 - categorical_accuracy: 0.5431 - val_loss: 1.4496 - val_categorical_accuracy: 0.5608\n",
            "Epoch 4/20\n",
            "151/151 [==============================] - 1s 7ms/step - loss: 1.2854 - categorical_accuracy: 0.6121 - val_loss: 1.3201 - val_categorical_accuracy: 0.5948\n",
            "Epoch 5/20\n",
            "151/151 [==============================] - 1s 7ms/step - loss: 1.1382 - categorical_accuracy: 0.6611 - val_loss: 1.2308 - val_categorical_accuracy: 0.6159\n",
            "Epoch 6/20\n",
            "151/151 [==============================] - 1s 7ms/step - loss: 1.0206 - categorical_accuracy: 0.6967 - val_loss: 1.1688 - val_categorical_accuracy: 0.6337\n",
            "Epoch 7/20\n",
            "151/151 [==============================] - 1s 7ms/step - loss: 0.9278 - categorical_accuracy: 0.7196 - val_loss: 1.1369 - val_categorical_accuracy: 0.6420\n",
            "Epoch 8/20\n",
            "151/151 [==============================] - 1s 7ms/step - loss: 0.8529 - categorical_accuracy: 0.7466 - val_loss: 1.1014 - val_categorical_accuracy: 0.6518\n",
            "Epoch 9/20\n",
            "151/151 [==============================] - 1s 7ms/step - loss: 0.7901 - categorical_accuracy: 0.7627 - val_loss: 1.0730 - val_categorical_accuracy: 0.6576\n",
            "Epoch 10/20\n",
            "151/151 [==============================] - 1s 7ms/step - loss: 0.7354 - categorical_accuracy: 0.7761 - val_loss: 1.0538 - val_categorical_accuracy: 0.6616\n",
            "Epoch 11/20\n",
            "151/151 [==============================] - 1s 7ms/step - loss: 0.6898 - categorical_accuracy: 0.7942 - val_loss: 1.0397 - val_categorical_accuracy: 0.6609\n",
            "Epoch 12/20\n",
            "151/151 [==============================] - 1s 7ms/step - loss: 0.6439 - categorical_accuracy: 0.8098 - val_loss: 1.0311 - val_categorical_accuracy: 0.6638\n",
            "Epoch 13/20\n",
            "151/151 [==============================] - 1s 7ms/step - loss: 0.6119 - categorical_accuracy: 0.8171 - val_loss: 1.0279 - val_categorical_accuracy: 0.6641\n",
            "Epoch 14/20\n",
            "151/151 [==============================] - 1s 7ms/step - loss: 0.5831 - categorical_accuracy: 0.8265 - val_loss: 1.0196 - val_categorical_accuracy: 0.6692\n",
            "Epoch 15/20\n",
            "151/151 [==============================] - 1s 7ms/step - loss: 0.5466 - categorical_accuracy: 0.8380 - val_loss: 1.0194 - val_categorical_accuracy: 0.6685\n",
            "Epoch 16/20\n",
            "151/151 [==============================] - 1s 7ms/step - loss: 0.5211 - categorical_accuracy: 0.8436 - val_loss: 1.0138 - val_categorical_accuracy: 0.6757\n",
            "Epoch 17/20\n",
            "151/151 [==============================] - 1s 7ms/step - loss: 0.4970 - categorical_accuracy: 0.8520 - val_loss: 1.0191 - val_categorical_accuracy: 0.6765\n",
            "Epoch 18/20\n",
            "151/151 [==============================] - 1s 7ms/step - loss: 0.4767 - categorical_accuracy: 0.8599 - val_loss: 1.0229 - val_categorical_accuracy: 0.6743\n",
            "Epoch 19/20\n",
            "151/151 [==============================] - 1s 7ms/step - loss: 0.4489 - categorical_accuracy: 0.8677 - val_loss: 1.0224 - val_categorical_accuracy: 0.6754\n",
            "Epoch 20/20\n",
            "151/151 [==============================] - 1s 7ms/step - loss: 0.4330 - categorical_accuracy: 0.8710 - val_loss: 1.0299 - val_categorical_accuracy: 0.6754\n"
          ]
        }
      ]
    },
    {
      "cell_type": "code",
      "source": [
        "# visualize the loss during training\n",
        "train_loss = history.history['loss']\n",
        "val_loss = history.history['val_loss']\n",
        "plt.plot(train_loss, label = 'training loss')\n",
        "plt.plot(val_loss, label = 'validation loss')\n",
        "plt.legend()"
      ],
      "metadata": {
        "id": "iMLBORvZ3xG_",
        "colab": {
          "base_uri": "https://localhost:8080/",
          "height": 282
        },
        "outputId": "095d08ac-5d0f-4d75-b333-e69a67131105"
      },
      "execution_count": null,
      "outputs": [
        {
          "output_type": "execute_result",
          "data": {
            "text/plain": [
              "<matplotlib.legend.Legend at 0x7f22f2529450>"
            ]
          },
          "metadata": {},
          "execution_count": 65
        },
        {
          "output_type": "display_data",
          "data": {
            "text/plain": [
              "<Figure size 432x288 with 1 Axes>"
            ],
            "image/png": "[encoded data removed]"
          },
          "metadata": {
            "needs_background": "light"
          }
        }
      ]
    },
    {
      "cell_type": "code",
      "source": [
        "# visualize the accuracy during training\n",
        "train_accuracy = history.history['categorical_accuracy']\n",
        "val_accuracy = history.history['val_categorical_accuracy']\n",
        "plt.plot(train_accuracy, label='training accuracy')\n",
        "plt.plot(val_accuracy, label='validation accuracy')\n",
        "plt.legend()"
      ],
      "metadata": {
        "id": "s0oyDWIS30Un",
        "colab": {
          "base_uri": "https://localhost:8080/",
          "height": 285
        },
        "outputId": "ec10ed85-4503-4306-f5fd-82dd07a80bb7"
      },
      "execution_count": null,
      "outputs": [
        {
          "output_type": "execute_result",
          "data": {
            "text/plain": [
              "<matplotlib.legend.Legend at 0x7f22f23b5750>"
            ]
          },
          "metadata": {},
          "execution_count": 66
        },
        {
          "output_type": "display_data",
          "data": {
            "text/plain": [
              "<Figure size 432x288 with 1 Axes>"
            ],
            "image/png": "[encoded data removed]"
          },
          "metadata": {
            "needs_background": "light"
          }
        }
      ]
    },
    {
      "cell_type": "code",
      "source": [
        "_, categorical_acc = our_model.evaluate(test_dataset)\n",
        "print(f\"Categorical accuracy on the test set: {round(categorical_acc * 100, 2)}%.\")"
      ],
      "metadata": {
        "colab": {
          "base_uri": "https://localhost:8080/"
        },
        "id": "DDx-TgMukETo",
        "outputId": "dffcb5af-4255-479d-dfe3-3124e7277c18"
      },
      "execution_count": null,
      "outputs": [
        {
          "output_type": "stream",
          "name": "stdout",
          "text": [
            "86/86 [==============================] - 0s 5ms/step - loss: 1.1299 - categorical_accuracy: 0.6470\n",
            "Categorical accuracy on the test set: 64.7%.\n"
          ]
        }
      ]
    },
    {
      "cell_type": "markdown",
      "source": [
        "# Inference"
      ],
      "metadata": {
        "id": "zJVt4DWe-tmh"
      }
    },
    {
      "cell_type": "code",
      "source": [
        "model_for_inference = keras.Sequential([text_vectorizer, our_model])\n",
        "\n",
        "# Create a small dataset just for demoing inference.\n",
        "inference_dataset = make_dataset(test_dataframe.sample(100), is_train=False)\n",
        "text_batch, label_batch = next(iter(inference_dataset))\n",
        "predicted_probabilities = model_for_inference.predict(text_batch)"
      ],
      "metadata": {
        "id": "1_7iJqNg-uyq"
      },
      "execution_count": null,
      "outputs": []
    },
    {
      "cell_type": "code",
      "source": [
        "# Perform inference.\n",
        "for i, text in enumerate(text_batch[:5]):\n",
        "    label = label_batch[i].numpy()[None, ...]\n",
        "    print(f\"Abstract: {text}\")\n",
        "    print(f\"Label(s): {invert_multi_hot(label[0])}\")\n",
        "    predicted_proba = [proba for proba in predicted_probabilities[i]]\n",
        "    predicted_label = [\n",
        "        x\n",
        "        for _, x in sorted(\n",
        "            zip(predicted_probabilities[i], lookup.get_vocabulary()),\n",
        "            key=lambda pair: pair[0],\n",
        "            reverse=True,\n",
        "        )\n",
        "    ][:1]\n",
        "    print(f\"Predicted Label(s): ({', '.join([label for label in predicted_label])})\")\n",
        "    print(\" \")"
      ],
      "metadata": {
        "colab": {
          "base_uri": "https://localhost:8080/"
        },
        "id": "QkTvcG5Y_eet",
        "outputId": "498a2576-144a-4c02-cfa1-6f25ea0aae57"
      },
      "execution_count": null,
      "outputs": [
        {
          "output_type": "stream",
          "name": "stdout",
          "text": [
            "Abstract: b\"Some random guy was in my backyard, I didn't realize before I looked outside that I was missing pants. Turns out he was the cable guy fixing a wire.\"\n",
            "Label(s): ['disgusted']\n",
            "Predicted Label(s): (disgusted)\n",
            " \n",
            "Abstract: b\"I'm always doing things to take care of the future\"\n",
            "Label(s): ['prepared']\n",
            "Predicted Label(s): (grateful)\n",
            " \n",
            "Abstract: b'I recently went to the pool. I lost my swim trunks and felt awkward!'\n",
            "Label(s): ['disgusted']\n",
            "Predicted Label(s): (disgusted)\n",
            " \n",
            "Abstract: b'While in college, I was in the running for a scholarship. Despite being fully qualified to receive it and meeting the criteria, it was given to someone else. I really wanted that scholarship.'\n",
            "Label(s): ['annoyed']\n",
            "Predicted Label(s): (disappointed)\n",
            " \n",
            "Abstract: b'A dog chased me down the streets last night.. i was shaking by the time i escaped'\n",
            "Label(s): ['afraid']\n",
            "Predicted Label(s): (afraid)\n",
            " \n"
          ]
        }
      ]
    }
  ]
}